{
 "cells": [
  {
   "cell_type": "code",
   "execution_count": 20,
   "id": "3c85dab8-6a3e-4134-9489-579413b09848",
   "metadata": {},
   "outputs": [
    {
     "name": "stdout",
     "output_type": "stream",
     "text": [
      "   crop_code     crop_name crop_group  production_t     wfg_m3_t  wfb_cr_m3_t  \\\n",
      "0         56  Maize (corn)    Cereals  1.024541e+09   657.166427     7.484206   \n",
      "1        236    Soya beans  Oil crops  3.038541e+08  1548.750728    30.277155   \n",
      "2         15         Wheat    Cereals  7.255114e+08   829.653601    29.621919   \n",
      "3         27          Rice    Cereals  7.348570e+08   580.321894    57.548323   \n",
      "4         83       Sorghum    Cereals  6.235406e+07  2583.405432     6.080188   \n",
      "\n",
      "   wfb_i_m3_t  wf_tot_m3_t  \n",
      "0   49.916426   714.567059  \n",
      "1   21.518670  1600.546553  \n",
      "2  154.042699  1013.318220  \n",
      "3  308.904081   946.774298  \n",
      "4  148.205587  2737.691206  \n",
      "Mean Squared Error: 0.15576925170473016\n",
      "R^2 Score: 0.9503771186678883\n",
      "Model saved as water_footprint_predictor.pkl\n"
     ]
    }
   ],
   "source": [
    "import pandas as pd\n",
    "from sklearn.model_selection import train_test_split\n",
    "from sklearn.preprocessing import OneHotEncoder\n",
    "from sklearn.compose import ColumnTransformer\n",
    "from sklearn.pipeline import Pipeline\n",
    "from sklearn.ensemble import RandomForestRegressor\n",
    "from sklearn.metrics import mean_squared_error, r2_score\n",
    "import joblib \n",
    "import numpy as np\n",
    "\n",
    "df = pd.read_csv('data/global_wf_175_crops_average_2010_2019.csv', skiprows=3)\n",
    "print(df.head())\n",
    "# Drop rows with missing values (or use df.fillna() if you prefer)\n",
    "df = df.dropna()\n",
    "\n",
    "# Features and target\n",
    "X = df.drop(columns=['wf_tot_m3_t'])\n",
    "y = np.log1p(df['wf_tot_m3_t'])\n",
    "\n",
    "# Identify categorical and numerical features\n",
    "categorical_features = ['crop_name', 'crop_group']\n",
    "numerical_features = ['production_t', 'wfg_m3_t', 'wfb_cr_m3_t', 'wfb_i_m3_t']\n",
    "\n",
    "# Preprocessing: encode categorical data\n",
    "preprocessor = ColumnTransformer(\n",
    "    transformers=[\n",
    "        ('cat', OneHotEncoder(handle_unknown='ignore'), categorical_features)\n",
    "    ],\n",
    "    remainder='passthrough'  # Keep numerical features as is\n",
    ")\n",
    "\n",
    "# Pipeline with preprocessing and model\n",
    "model = Pipeline(steps=[\n",
    "    ('preprocessor', preprocessor),\n",
    "    ('regressor', RandomForestRegressor(n_estimators=100, random_state=42))\n",
    "])\n",
    "\n",
    "# Split into training and test sets\n",
    "X_train, X_test, y_train, y_test = train_test_split(X, y, test_size=0.2, random_state=42)\n",
    "\n",
    "# Train model\n",
    "model.fit(X_train, y_train)\n",
    "\n",
    "# Predict\n",
    "y_pred = model.predict(X_test)\n",
    "\n",
    "# Evaluate\n",
    "print(\"Mean Squared Error:\", mean_squared_error(y_test, y_pred))\n",
    "print(\"R^2 Score:\", r2_score(y_test, y_pred))\n",
    "\n",
    "joblib.dump(model, 'models/water_footprint_predictor.pkl')\n",
    "print(\"Model saved as water_footprint_predictor.pkl\")"
   ]
  },
  {
   "cell_type": "code",
   "execution_count": 15,
   "id": "b044f95e-ef1c-45c5-8f5b-81ab6b7dc1f8",
   "metadata": {},
   "outputs": [
    {
     "data": {
      "text/plain": [
       "array(['Cereals', 'Oil crops', 'Fibres', 'Roots', 'Pulses', 'Sugar crops',\n",
       "       'Vegetables', 'Fruits', 'Stimulants', 'Others', 'Nuts', 'Spices',\n",
       "       'Fodder crops'], dtype=object)"
      ]
     },
     "execution_count": 15,
     "metadata": {},
     "output_type": "execute_result"
    }
   ],
   "source": [
    "df['crop_group'].unique()"
   ]
  }
 ],
 "metadata": {
  "kernelspec": {
   "display_name": "Python 3 (ipykernel)",
   "language": "python",
   "name": "python3"
  },
  "language_info": {
   "codemirror_mode": {
    "name": "ipython",
    "version": 3
   },
   "file_extension": ".py",
   "mimetype": "text/x-python",
   "name": "python",
   "nbconvert_exporter": "python",
   "pygments_lexer": "ipython3",
   "version": "3.12.9"
  }
 },
 "nbformat": 4,
 "nbformat_minor": 5
}
